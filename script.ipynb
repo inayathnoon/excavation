{
 "cells": [
  {
   "cell_type": "code",
   "execution_count": 1,
   "id": "5a9e3c3f",
   "metadata": {},
   "outputs": [],
   "source": [
    "import numpy as np\n",
    "import pandas as pd\n",
    "import matplotlib.pyplot as plt\n",
    "import seaborn as sns"
   ]
  },
  {
   "cell_type": "code",
   "execution_count": 2,
   "id": "1eb48866",
   "metadata": {},
   "outputs": [],
   "source": [
    "# converted to csv and imported here\n",
    "df = pd.read_csv('excavation_data.csv')"
   ]
  },
  {
   "cell_type": "code",
   "execution_count": 3,
   "id": "bd17ca9e",
   "metadata": {},
   "outputs": [
    {
     "data": {
      "text/html": [
       "<div>\n",
       "<style scoped>\n",
       "    .dataframe tbody tr th:only-of-type {\n",
       "        vertical-align: middle;\n",
       "    }\n",
       "\n",
       "    .dataframe tbody tr th {\n",
       "        vertical-align: top;\n",
       "    }\n",
       "\n",
       "    .dataframe thead th {\n",
       "        text-align: right;\n",
       "    }\n",
       "</style>\n",
       "<table border=\"1\" class=\"dataframe\">\n",
       "  <thead>\n",
       "    <tr style=\"text-align: right;\">\n",
       "      <th></th>\n",
       "      <th>Truck Name</th>\n",
       "      <th>Days (ignition)</th>\n",
       "      <th>Total Production</th>\n",
       "      <th>No. of Trips</th>\n",
       "      <th>Ignition On Hrs</th>\n",
       "      <th>Utilization Hrs</th>\n",
       "      <th>Distance (Km)</th>\n",
       "      <th>Speed (Km/h)</th>\n",
       "      <th>Loading Time (min)</th>\n",
       "      <th>Unloading Time (min)</th>\n",
       "      <th>Total Emissions</th>\n",
       "    </tr>\n",
       "  </thead>\n",
       "  <tbody>\n",
       "    <tr>\n",
       "      <th>0</th>\n",
       "      <td>A-1</td>\n",
       "      <td>31</td>\n",
       "      <td>25020.21786</td>\n",
       "      <td>1312</td>\n",
       "      <td>489.077222</td>\n",
       "      <td>192.811911</td>\n",
       "      <td>2295.69</td>\n",
       "      <td>10.361135</td>\n",
       "      <td>3.522476</td>\n",
       "      <td>1.779959</td>\n",
       "      <td>10812.3</td>\n",
       "    </tr>\n",
       "    <tr>\n",
       "      <th>1</th>\n",
       "      <td>A-2</td>\n",
       "      <td>33</td>\n",
       "      <td>18638.81847</td>\n",
       "      <td>1160</td>\n",
       "      <td>505.339167</td>\n",
       "      <td>207.108319</td>\n",
       "      <td>2677.60</td>\n",
       "      <td>11.304072</td>\n",
       "      <td>3.027102</td>\n",
       "      <td>2.276468</td>\n",
       "      <td>12669.8</td>\n",
       "    </tr>\n",
       "    <tr>\n",
       "      <th>2</th>\n",
       "      <td>A-3</td>\n",
       "      <td>33</td>\n",
       "      <td>28038.32546</td>\n",
       "      <td>1427</td>\n",
       "      <td>552.815558</td>\n",
       "      <td>256.530825</td>\n",
       "      <td>3006.74</td>\n",
       "      <td>10.549813</td>\n",
       "      <td>3.517111</td>\n",
       "      <td>2.319812</td>\n",
       "      <td>15392.6</td>\n",
       "    </tr>\n",
       "    <tr>\n",
       "      <th>3</th>\n",
       "      <td>A-4</td>\n",
       "      <td>33</td>\n",
       "      <td>26247.80188</td>\n",
       "      <td>1457</td>\n",
       "      <td>563.888889</td>\n",
       "      <td>223.470542</td>\n",
       "      <td>2654.58</td>\n",
       "      <td>10.808195</td>\n",
       "      <td>2.714766</td>\n",
       "      <td>2.409837</td>\n",
       "      <td>5139.0</td>\n",
       "    </tr>\n",
       "    <tr>\n",
       "      <th>4</th>\n",
       "      <td>A-5</td>\n",
       "      <td>32</td>\n",
       "      <td>27027.86375</td>\n",
       "      <td>1450</td>\n",
       "      <td>525.983056</td>\n",
       "      <td>258.806931</td>\n",
       "      <td>2742.82</td>\n",
       "      <td>9.526938</td>\n",
       "      <td>3.399480</td>\n",
       "      <td>2.061426</td>\n",
       "      <td>4903.3</td>\n",
       "    </tr>\n",
       "  </tbody>\n",
       "</table>\n",
       "</div>"
      ],
      "text/plain": [
       "  Truck Name  Days (ignition)  Total Production  No. of Trips  \\\n",
       "0        A-1               31       25020.21786          1312   \n",
       "1        A-2               33       18638.81847          1160   \n",
       "2        A-3               33       28038.32546          1427   \n",
       "3        A-4               33       26247.80188          1457   \n",
       "4        A-5               32       27027.86375          1450   \n",
       "\n",
       "   Ignition On Hrs  Utilization Hrs  Distance (Km)  Speed (Km/h)  \\\n",
       "0       489.077222       192.811911        2295.69     10.361135   \n",
       "1       505.339167       207.108319        2677.60     11.304072   \n",
       "2       552.815558       256.530825        3006.74     10.549813   \n",
       "3       563.888889       223.470542        2654.58     10.808195   \n",
       "4       525.983056       258.806931        2742.82      9.526938   \n",
       "\n",
       "   Loading Time (min)  Unloading Time (min)  Total Emissions  \n",
       "0            3.522476              1.779959          10812.3  \n",
       "1            3.027102              2.276468          12669.8  \n",
       "2            3.517111              2.319812          15392.6  \n",
       "3            2.714766              2.409837           5139.0  \n",
       "4            3.399480              2.061426           4903.3  "
      ]
     },
     "execution_count": 3,
     "metadata": {},
     "output_type": "execute_result"
    }
   ],
   "source": [
    "df.head()"
   ]
  },
  {
   "cell_type": "code",
   "execution_count": 4,
   "id": "27f34138",
   "metadata": {},
   "outputs": [
    {
     "data": {
      "text/plain": [
       "(50, 11)"
      ]
     },
     "execution_count": 4,
     "metadata": {},
     "output_type": "execute_result"
    }
   ],
   "source": [
    "df.shape\n",
    "#data size upload - verified"
   ]
  },
  {
   "cell_type": "code",
   "execution_count": 5,
   "id": "f1fbd2d8",
   "metadata": {},
   "outputs": [],
   "source": [
    "# days of ignition is above 31 for october\n",
    "# this could be calculation error (maybe sep31st and nov1st included)\n",
    "# field investigation required \n",
    "df['Days (ignition)'] = df['Days (ignition)'] - 3"
   ]
  },
  {
   "cell_type": "code",
   "execution_count": null,
   "id": "deb3b8bd",
   "metadata": {},
   "outputs": [],
   "source": []
  },
  {
   "cell_type": "markdown",
   "id": "02be8c8e",
   "metadata": {},
   "source": [
    "### MISSING DATA HANDLING"
   ]
  },
  {
   "cell_type": "code",
   "execution_count": 6,
   "id": "95d8258a",
   "metadata": {},
   "outputs": [
    {
     "data": {
      "text/html": [
       "<div>\n",
       "<style scoped>\n",
       "    .dataframe tbody tr th:only-of-type {\n",
       "        vertical-align: middle;\n",
       "    }\n",
       "\n",
       "    .dataframe tbody tr th {\n",
       "        vertical-align: top;\n",
       "    }\n",
       "\n",
       "    .dataframe thead th {\n",
       "        text-align: right;\n",
       "    }\n",
       "</style>\n",
       "<table border=\"1\" class=\"dataframe\">\n",
       "  <thead>\n",
       "    <tr style=\"text-align: right;\">\n",
       "      <th></th>\n",
       "      <th>Truck Name</th>\n",
       "      <th>Days (ignition)</th>\n",
       "      <th>Total Production</th>\n",
       "      <th>No. of Trips</th>\n",
       "      <th>Ignition On Hrs</th>\n",
       "      <th>Utilization Hrs</th>\n",
       "      <th>Distance (Km)</th>\n",
       "      <th>Speed (Km/h)</th>\n",
       "      <th>Loading Time (min)</th>\n",
       "      <th>Unloading Time (min)</th>\n",
       "      <th>Total Emissions</th>\n",
       "    </tr>\n",
       "  </thead>\n",
       "  <tbody>\n",
       "    <tr>\n",
       "      <th>20</th>\n",
       "      <td>A-21</td>\n",
       "      <td>-1</td>\n",
       "      <td>0.0</td>\n",
       "      <td>0</td>\n",
       "      <td>0.295833</td>\n",
       "      <td>0.000000</td>\n",
       "      <td>0.02</td>\n",
       "      <td>NaN</td>\n",
       "      <td>NaN</td>\n",
       "      <td>NaN</td>\n",
       "      <td>0.2</td>\n",
       "    </tr>\n",
       "    <tr>\n",
       "      <th>32</th>\n",
       "      <td>A-33</td>\n",
       "      <td>2</td>\n",
       "      <td>0.0</td>\n",
       "      <td>0</td>\n",
       "      <td>1.455556</td>\n",
       "      <td>0.000556</td>\n",
       "      <td>0.26</td>\n",
       "      <td>6.0</td>\n",
       "      <td>NaN</td>\n",
       "      <td>NaN</td>\n",
       "      <td>10.6</td>\n",
       "    </tr>\n",
       "    <tr>\n",
       "      <th>45</th>\n",
       "      <td>A-46</td>\n",
       "      <td>-1</td>\n",
       "      <td>0.0</td>\n",
       "      <td>0</td>\n",
       "      <td>0.014167</td>\n",
       "      <td>0.000000</td>\n",
       "      <td>0.00</td>\n",
       "      <td>NaN</td>\n",
       "      <td>NaN</td>\n",
       "      <td>NaN</td>\n",
       "      <td>0.0</td>\n",
       "    </tr>\n",
       "  </tbody>\n",
       "</table>\n",
       "</div>"
      ],
      "text/plain": [
       "   Truck Name  Days (ignition)  Total Production  No. of Trips  \\\n",
       "20       A-21               -1               0.0             0   \n",
       "32       A-33                2               0.0             0   \n",
       "45       A-46               -1               0.0             0   \n",
       "\n",
       "    Ignition On Hrs  Utilization Hrs  Distance (Km)  Speed (Km/h)  \\\n",
       "20         0.295833         0.000000           0.02           NaN   \n",
       "32         1.455556         0.000556           0.26           6.0   \n",
       "45         0.014167         0.000000           0.00           NaN   \n",
       "\n",
       "    Loading Time (min)  Unloading Time (min)  Total Emissions  \n",
       "20                 NaN                   NaN              0.2  \n",
       "32                 NaN                   NaN             10.6  \n",
       "45                 NaN                   NaN              0.0  "
      ]
     },
     "metadata": {},
     "output_type": "display_data"
    }
   ],
   "source": [
    "display(df[df['No. of Trips'].isin([0, np.nan])])\n",
    "#3 rows (6% of data) with 0 trips\n",
    "\n",
    "df1 = df[df['No. of Trips'] != 0].copy()\n",
    "df1 =df1.reset_index(drop=True)"
   ]
  },
  {
   "cell_type": "markdown",
   "id": "e8f8acd7",
   "metadata": {},
   "source": [
    "#### Ask onsite team the reason of 0 trip vehicles, removed from analysis for now"
   ]
  },
  {
   "cell_type": "code",
   "execution_count": 7,
   "id": "4191e05c",
   "metadata": {},
   "outputs": [
    {
     "data": {
      "text/html": [
       "<div>\n",
       "<style scoped>\n",
       "    .dataframe tbody tr th:only-of-type {\n",
       "        vertical-align: middle;\n",
       "    }\n",
       "\n",
       "    .dataframe tbody tr th {\n",
       "        vertical-align: top;\n",
       "    }\n",
       "\n",
       "    .dataframe thead th {\n",
       "        text-align: right;\n",
       "    }\n",
       "</style>\n",
       "<table border=\"1\" class=\"dataframe\">\n",
       "  <thead>\n",
       "    <tr style=\"text-align: right;\">\n",
       "      <th></th>\n",
       "      <th>Days (ignition)</th>\n",
       "      <th>Total Production</th>\n",
       "      <th>No. of Trips</th>\n",
       "      <th>Ignition On Hrs</th>\n",
       "      <th>Utilization Hrs</th>\n",
       "      <th>Distance (Km)</th>\n",
       "      <th>Speed (Km/h)</th>\n",
       "      <th>Loading Time (min)</th>\n",
       "      <th>Unloading Time (min)</th>\n",
       "      <th>Total Emissions</th>\n",
       "    </tr>\n",
       "  </thead>\n",
       "  <tbody>\n",
       "    <tr>\n",
       "      <th>count</th>\n",
       "      <td>47.000000</td>\n",
       "      <td>47.000000</td>\n",
       "      <td>47.000000</td>\n",
       "      <td>47.000000</td>\n",
       "      <td>47.000000</td>\n",
       "      <td>47.000000</td>\n",
       "      <td>47.000000</td>\n",
       "      <td>47.000000</td>\n",
       "      <td>46.000000</td>\n",
       "      <td>47.000000</td>\n",
       "    </tr>\n",
       "    <tr>\n",
       "      <th>mean</th>\n",
       "      <td>28.851064</td>\n",
       "      <td>18604.348143</td>\n",
       "      <td>1002.851064</td>\n",
       "      <td>451.990124</td>\n",
       "      <td>194.293039</td>\n",
       "      <td>2436.952766</td>\n",
       "      <td>13.438676</td>\n",
       "      <td>3.387113</td>\n",
       "      <td>2.109993</td>\n",
       "      <td>7679.346809</td>\n",
       "    </tr>\n",
       "    <tr>\n",
       "      <th>std</th>\n",
       "      <td>3.021508</td>\n",
       "      <td>9772.061333</td>\n",
       "      <td>507.365488</td>\n",
       "      <td>148.883203</td>\n",
       "      <td>79.867343</td>\n",
       "      <td>868.013681</td>\n",
       "      <td>8.569597</td>\n",
       "      <td>1.166894</td>\n",
       "      <td>0.306798</td>\n",
       "      <td>4825.309753</td>\n",
       "    </tr>\n",
       "    <tr>\n",
       "      <th>min</th>\n",
       "      <td>15.000000</td>\n",
       "      <td>333.609923</td>\n",
       "      <td>17.000000</td>\n",
       "      <td>59.876389</td>\n",
       "      <td>6.502222</td>\n",
       "      <td>134.760000</td>\n",
       "      <td>7.473582</td>\n",
       "      <td>0.000000</td>\n",
       "      <td>1.327083</td>\n",
       "      <td>0.000000</td>\n",
       "    </tr>\n",
       "    <tr>\n",
       "      <th>25%</th>\n",
       "      <td>29.000000</td>\n",
       "      <td>13561.058585</td>\n",
       "      <td>827.500000</td>\n",
       "      <td>469.350971</td>\n",
       "      <td>191.206226</td>\n",
       "      <td>2300.055000</td>\n",
       "      <td>9.783130</td>\n",
       "      <td>2.959384</td>\n",
       "      <td>1.995238</td>\n",
       "      <td>4008.550000</td>\n",
       "    </tr>\n",
       "    <tr>\n",
       "      <th>50%</th>\n",
       "      <td>30.000000</td>\n",
       "      <td>23079.566510</td>\n",
       "      <td>1200.000000</td>\n",
       "      <td>515.025000</td>\n",
       "      <td>219.727764</td>\n",
       "      <td>2510.620000</td>\n",
       "      <td>10.364237</td>\n",
       "      <td>3.615622</td>\n",
       "      <td>2.172524</td>\n",
       "      <td>7798.300000</td>\n",
       "    </tr>\n",
       "    <tr>\n",
       "      <th>75%</th>\n",
       "      <td>30.000000</td>\n",
       "      <td>26050.059850</td>\n",
       "      <td>1371.500000</td>\n",
       "      <td>532.501806</td>\n",
       "      <td>242.598875</td>\n",
       "      <td>2821.300000</td>\n",
       "      <td>11.466098</td>\n",
       "      <td>4.060876</td>\n",
       "      <td>2.309635</td>\n",
       "      <td>12152.400000</td>\n",
       "    </tr>\n",
       "    <tr>\n",
       "      <th>max</th>\n",
       "      <td>31.000000</td>\n",
       "      <td>30844.273240</td>\n",
       "      <td>1576.000000</td>\n",
       "      <td>565.829722</td>\n",
       "      <td>331.590278</td>\n",
       "      <td>4745.590000</td>\n",
       "      <td>45.395546</td>\n",
       "      <td>5.028708</td>\n",
       "      <td>2.740972</td>\n",
       "      <td>16865.400000</td>\n",
       "    </tr>\n",
       "  </tbody>\n",
       "</table>\n",
       "</div>"
      ],
      "text/plain": [
       "       Days (ignition)  Total Production  No. of Trips  Ignition On Hrs  \\\n",
       "count        47.000000         47.000000     47.000000        47.000000   \n",
       "mean         28.851064      18604.348143   1002.851064       451.990124   \n",
       "std           3.021508       9772.061333    507.365488       148.883203   \n",
       "min          15.000000        333.609923     17.000000        59.876389   \n",
       "25%          29.000000      13561.058585    827.500000       469.350971   \n",
       "50%          30.000000      23079.566510   1200.000000       515.025000   \n",
       "75%          30.000000      26050.059850   1371.500000       532.501806   \n",
       "max          31.000000      30844.273240   1576.000000       565.829722   \n",
       "\n",
       "       Utilization Hrs  Distance (Km)  Speed (Km/h)  Loading Time (min)  \\\n",
       "count        47.000000      47.000000     47.000000           47.000000   \n",
       "mean        194.293039    2436.952766     13.438676            3.387113   \n",
       "std          79.867343     868.013681      8.569597            1.166894   \n",
       "min           6.502222     134.760000      7.473582            0.000000   \n",
       "25%         191.206226    2300.055000      9.783130            2.959384   \n",
       "50%         219.727764    2510.620000     10.364237            3.615622   \n",
       "75%         242.598875    2821.300000     11.466098            4.060876   \n",
       "max         331.590278    4745.590000     45.395546            5.028708   \n",
       "\n",
       "       Unloading Time (min)  Total Emissions  \n",
       "count             46.000000        47.000000  \n",
       "mean               2.109993      7679.346809  \n",
       "std                0.306798      4825.309753  \n",
       "min                1.327083         0.000000  \n",
       "25%                1.995238      4008.550000  \n",
       "50%                2.172524      7798.300000  \n",
       "75%                2.309635     12152.400000  \n",
       "max                2.740972     16865.400000  "
      ]
     },
     "execution_count": 7,
     "metadata": {},
     "output_type": "execute_result"
    }
   ],
   "source": [
    "df1.describe()"
   ]
  },
  {
   "cell_type": "code",
   "execution_count": 8,
   "id": "1945a000",
   "metadata": {},
   "outputs": [],
   "source": [
    "df3 = df1.drop('Truck Name', axis=1).copy()\n",
    "df3 = df3[(df3 != 0).all(axis=1) & df3.notna().all(axis=1)]"
   ]
  },
  {
   "cell_type": "markdown",
   "id": "e4638699",
   "metadata": {},
   "source": [
    "### CORRELATION"
   ]
  },
  {
   "cell_type": "code",
   "execution_count": 9,
   "id": "7d3cd5ad",
   "metadata": {},
   "outputs": [
    {
     "data": {
      "image/png": "[encoded data removed]",
      "text/plain": [
       "<Figure size 800x400 with 2 Axes>"
      ]
     },
     "metadata": {},
     "output_type": "display_data"
    }
   ],
   "source": [
    "df3.corr()\n",
    "plt.figure(figsize=(8, 4))\n",
    "heatmap = sns.heatmap(df3.corr(), annot=True, cmap='coolwarm')\n",
    "heatmap.set_xticklabels(heatmap.get_xticklabels(), rotation=35)\n",
    "plt.title('Correlation Matrix')\n",
    "plt.show()"
   ]
  },
  {
   "cell_type": "markdown",
   "id": "9f015af4",
   "metadata": {},
   "source": [
    "#### Extreme multicollinearity between Total Production & No. of Trips ->\tWe shall remove  No. of Trips  (if we have to build an ML model\n",
    "#### High correlation between Speed, Days (ignition) and Ignition On Hrs as well, we shall retain them for certain analysis but remove if need be"
   ]
  },
  {
   "cell_type": "code",
   "execution_count": 10,
   "id": "dbcfecc2",
   "metadata": {},
   "outputs": [],
   "source": [
    "#df1 = df1.drop(['No. of Trips'], axis=1)"
   ]
  },
  {
   "cell_type": "markdown",
   "id": "861f4298",
   "metadata": {},
   "source": [
    "### IMPUTATION"
   ]
  },
  {
   "cell_type": "code",
   "execution_count": 11,
   "id": "f7f71e37",
   "metadata": {},
   "outputs": [
    {
     "data": {
      "text/plain": [
       "Index(['Loading Time (min)', 'Unloading Time (min)', 'Total Emissions'], dtype='object')"
      ]
     },
     "execution_count": 11,
     "metadata": {},
     "output_type": "execute_result"
    }
   ],
   "source": [
    "#checking for any 0 or nan value\n",
    "df1.columns[df1.isin([0, np.nan]).any()]\n",
    "\n",
    "# 8 coloumns are completely filled, 3 require attention"
   ]
  },
  {
   "cell_type": "code",
   "execution_count": 12,
   "id": "78c8e936",
   "metadata": {},
   "outputs": [
    {
     "data": {
      "text/html": [
       "<div>\n",
       "<style scoped>\n",
       "    .dataframe tbody tr th:only-of-type {\n",
       "        vertical-align: middle;\n",
       "    }\n",
       "\n",
       "    .dataframe tbody tr th {\n",
       "        vertical-align: top;\n",
       "    }\n",
       "\n",
       "    .dataframe thead th {\n",
       "        text-align: right;\n",
       "    }\n",
       "</style>\n",
       "<table border=\"1\" class=\"dataframe\">\n",
       "  <thead>\n",
       "    <tr style=\"text-align: right;\">\n",
       "      <th></th>\n",
       "      <th>Truck Name</th>\n",
       "      <th>Days (ignition)</th>\n",
       "      <th>Total Production</th>\n",
       "      <th>No. of Trips</th>\n",
       "      <th>Ignition On Hrs</th>\n",
       "      <th>Utilization Hrs</th>\n",
       "      <th>Distance (Km)</th>\n",
       "      <th>Speed (Km/h)</th>\n",
       "      <th>Loading Time (min)</th>\n",
       "      <th>Unloading Time (min)</th>\n",
       "      <th>Total Emissions</th>\n",
       "    </tr>\n",
       "  </thead>\n",
       "  <tbody>\n",
       "    <tr>\n",
       "      <th>10</th>\n",
       "      <td>A-11</td>\n",
       "      <td>30</td>\n",
       "      <td>3355.111621</td>\n",
       "      <td>187</td>\n",
       "      <td>213.762492</td>\n",
       "      <td>18.056114</td>\n",
       "      <td>195.00</td>\n",
       "      <td>8.052471</td>\n",
       "      <td>0.000000</td>\n",
       "      <td>2.740972</td>\n",
       "      <td>2931.9</td>\n",
       "    </tr>\n",
       "    <tr>\n",
       "      <th>33</th>\n",
       "      <td>A-36</td>\n",
       "      <td>30</td>\n",
       "      <td>2199.658536</td>\n",
       "      <td>125</td>\n",
       "      <td>177.051389</td>\n",
       "      <td>16.805000</td>\n",
       "      <td>180.48</td>\n",
       "      <td>7.473582</td>\n",
       "      <td>0.000000</td>\n",
       "      <td>2.396528</td>\n",
       "      <td>1801.7</td>\n",
       "    </tr>\n",
       "    <tr>\n",
       "      <th>36</th>\n",
       "      <td>A-39</td>\n",
       "      <td>31</td>\n",
       "      <td>4376.158593</td>\n",
       "      <td>282</td>\n",
       "      <td>374.352772</td>\n",
       "      <td>134.781392</td>\n",
       "      <td>4745.59</td>\n",
       "      <td>34.654694</td>\n",
       "      <td>4.507751</td>\n",
       "      <td>1.612927</td>\n",
       "      <td>0.0</td>\n",
       "    </tr>\n",
       "    <tr>\n",
       "      <th>38</th>\n",
       "      <td>A-41</td>\n",
       "      <td>28</td>\n",
       "      <td>814.754538</td>\n",
       "      <td>121</td>\n",
       "      <td>174.578889</td>\n",
       "      <td>92.239428</td>\n",
       "      <td>3693.43</td>\n",
       "      <td>38.546182</td>\n",
       "      <td>1.504136</td>\n",
       "      <td>1.431888</td>\n",
       "      <td>0.0</td>\n",
       "    </tr>\n",
       "    <tr>\n",
       "      <th>44</th>\n",
       "      <td>A-48</td>\n",
       "      <td>15</td>\n",
       "      <td>413.233574</td>\n",
       "      <td>20</td>\n",
       "      <td>91.208611</td>\n",
       "      <td>48.665278</td>\n",
       "      <td>2261.10</td>\n",
       "      <td>45.395546</td>\n",
       "      <td>0.000000</td>\n",
       "      <td>1.383333</td>\n",
       "      <td>891.5</td>\n",
       "    </tr>\n",
       "    <tr>\n",
       "      <th>46</th>\n",
       "      <td>A-50</td>\n",
       "      <td>24</td>\n",
       "      <td>333.609923</td>\n",
       "      <td>17</td>\n",
       "      <td>59.876389</td>\n",
       "      <td>6.502222</td>\n",
       "      <td>134.76</td>\n",
       "      <td>20.960331</td>\n",
       "      <td>1.574074</td>\n",
       "      <td>NaN</td>\n",
       "      <td>327.0</td>\n",
       "    </tr>\n",
       "  </tbody>\n",
       "</table>\n",
       "</div>"
      ],
      "text/plain": [
       "   Truck Name  Days (ignition)  Total Production  No. of Trips  \\\n",
       "10       A-11               30       3355.111621           187   \n",
       "33       A-36               30       2199.658536           125   \n",
       "36       A-39               31       4376.158593           282   \n",
       "38       A-41               28        814.754538           121   \n",
       "44       A-48               15        413.233574            20   \n",
       "46       A-50               24        333.609923            17   \n",
       "\n",
       "    Ignition On Hrs  Utilization Hrs  Distance (Km)  Speed (Km/h)  \\\n",
       "10       213.762492        18.056114         195.00      8.052471   \n",
       "33       177.051389        16.805000         180.48      7.473582   \n",
       "36       374.352772       134.781392        4745.59     34.654694   \n",
       "38       174.578889        92.239428        3693.43     38.546182   \n",
       "44        91.208611        48.665278        2261.10     45.395546   \n",
       "46        59.876389         6.502222         134.76     20.960331   \n",
       "\n",
       "    Loading Time (min)  Unloading Time (min)  Total Emissions  \n",
       "10            0.000000              2.740972           2931.9  \n",
       "33            0.000000              2.396528           1801.7  \n",
       "36            4.507751              1.612927              0.0  \n",
       "38            1.504136              1.431888              0.0  \n",
       "44            0.000000              1.383333            891.5  \n",
       "46            1.574074                   NaN            327.0  "
      ]
     },
     "execution_count": 12,
     "metadata": {},
     "output_type": "execute_result"
    }
   ],
   "source": [
    "df1[df1[['Total Emissions', 'Loading Time (min)','Unloading Time (min)']].isin([0, np.nan]).any(axis=1)]\n",
    "\n",
    "# only a very few rows (max 3) of each of these coloums are 0 or nan"
   ]
  },
  {
   "cell_type": "code",
   "execution_count": 13,
   "id": "afc16a1d",
   "metadata": {},
   "outputs": [],
   "source": [
    "# intuitively loading and unloading could be correlated, but correlation matrix say the opposite\n",
    "# we know Loading Time (min)& Total Emissions can never be truly 0, hence we assume them random error from onsite \n",
    "df2 = df1.copy()\n",
    "columns_to_impute= ['Total Emissions', 'Loading Time (min)','Unloading Time (min)']\n",
    "df2[columns_to_impute] = df2[columns_to_impute].replace(0, np.nan)"
   ]
  },
  {
   "cell_type": "markdown",
   "id": "bab25c50",
   "metadata": {},
   "source": [
    "#### We shall use mean imputation. Though they are random error, conducting MICE can lead to overfitting (just 50 rows)"
   ]
  },
  {
   "cell_type": "code",
   "execution_count": 14,
   "id": "5282413d",
   "metadata": {},
   "outputs": [
    {
     "data": {
      "text/html": [
       "<div>\n",
       "<style scoped>\n",
       "    .dataframe tbody tr th:only-of-type {\n",
       "        vertical-align: middle;\n",
       "    }\n",
       "\n",
       "    .dataframe tbody tr th {\n",
       "        vertical-align: top;\n",
       "    }\n",
       "\n",
       "    .dataframe thead th {\n",
       "        text-align: right;\n",
       "    }\n",
       "</style>\n",
       "<table border=\"1\" class=\"dataframe\">\n",
       "  <thead>\n",
       "    <tr style=\"text-align: right;\">\n",
       "      <th></th>\n",
       "      <th>Truck Name</th>\n",
       "      <th>Days (ignition)</th>\n",
       "      <th>Total Production</th>\n",
       "      <th>No. of Trips</th>\n",
       "      <th>Ignition On Hrs</th>\n",
       "      <th>Utilization Hrs</th>\n",
       "      <th>Distance (Km)</th>\n",
       "      <th>Speed (Km/h)</th>\n",
       "      <th>Loading Time (min)</th>\n",
       "      <th>Unloading Time (min)</th>\n",
       "      <th>Total Emissions</th>\n",
       "    </tr>\n",
       "  </thead>\n",
       "  <tbody>\n",
       "    <tr>\n",
       "      <th>0</th>\n",
       "      <td>A-1</td>\n",
       "      <td>28</td>\n",
       "      <td>25020.21786</td>\n",
       "      <td>1312</td>\n",
       "      <td>489.077222</td>\n",
       "      <td>192.811911</td>\n",
       "      <td>2295.69</td>\n",
       "      <td>10.361135</td>\n",
       "      <td>3.522476</td>\n",
       "      <td>1.779959</td>\n",
       "      <td>10812.3</td>\n",
       "    </tr>\n",
       "    <tr>\n",
       "      <th>1</th>\n",
       "      <td>A-2</td>\n",
       "      <td>30</td>\n",
       "      <td>18638.81847</td>\n",
       "      <td>1160</td>\n",
       "      <td>505.339167</td>\n",
       "      <td>207.108319</td>\n",
       "      <td>2677.60</td>\n",
       "      <td>11.304072</td>\n",
       "      <td>3.027102</td>\n",
       "      <td>2.276468</td>\n",
       "      <td>12669.8</td>\n",
       "    </tr>\n",
       "    <tr>\n",
       "      <th>2</th>\n",
       "      <td>A-3</td>\n",
       "      <td>30</td>\n",
       "      <td>28038.32546</td>\n",
       "      <td>1427</td>\n",
       "      <td>552.815558</td>\n",
       "      <td>256.530825</td>\n",
       "      <td>3006.74</td>\n",
       "      <td>10.549813</td>\n",
       "      <td>3.517111</td>\n",
       "      <td>2.319812</td>\n",
       "      <td>15392.6</td>\n",
       "    </tr>\n",
       "    <tr>\n",
       "      <th>3</th>\n",
       "      <td>A-4</td>\n",
       "      <td>30</td>\n",
       "      <td>26247.80188</td>\n",
       "      <td>1457</td>\n",
       "      <td>563.888889</td>\n",
       "      <td>223.470542</td>\n",
       "      <td>2654.58</td>\n",
       "      <td>10.808195</td>\n",
       "      <td>2.714766</td>\n",
       "      <td>2.409837</td>\n",
       "      <td>5139.0</td>\n",
       "    </tr>\n",
       "    <tr>\n",
       "      <th>4</th>\n",
       "      <td>A-5</td>\n",
       "      <td>29</td>\n",
       "      <td>27027.86375</td>\n",
       "      <td>1450</td>\n",
       "      <td>525.983056</td>\n",
       "      <td>258.806931</td>\n",
       "      <td>2742.82</td>\n",
       "      <td>9.526938</td>\n",
       "      <td>3.399480</td>\n",
       "      <td>2.061426</td>\n",
       "      <td>4903.3</td>\n",
       "    </tr>\n",
       "  </tbody>\n",
       "</table>\n",
       "</div>"
      ],
      "text/plain": [
       "  Truck Name  Days (ignition)  Total Production  No. of Trips  \\\n",
       "0        A-1               28       25020.21786          1312   \n",
       "1        A-2               30       18638.81847          1160   \n",
       "2        A-3               30       28038.32546          1427   \n",
       "3        A-4               30       26247.80188          1457   \n",
       "4        A-5               29       27027.86375          1450   \n",
       "\n",
       "   Ignition On Hrs  Utilization Hrs  Distance (Km)  Speed (Km/h)  \\\n",
       "0       489.077222       192.811911        2295.69     10.361135   \n",
       "1       505.339167       207.108319        2677.60     11.304072   \n",
       "2       552.815558       256.530825        3006.74     10.549813   \n",
       "3       563.888889       223.470542        2654.58     10.808195   \n",
       "4       525.983056       258.806931        2742.82      9.526938   \n",
       "\n",
       "   Loading Time (min)  Unloading Time (min)  Total Emissions  \n",
       "0            3.522476              1.779959          10812.3  \n",
       "1            3.027102              2.276468          12669.8  \n",
       "2            3.517111              2.319812          15392.6  \n",
       "3            2.714766              2.409837           5139.0  \n",
       "4            3.399480              2.061426           4903.3  "
      ]
     },
     "execution_count": 14,
     "metadata": {},
     "output_type": "execute_result"
    }
   ],
   "source": [
    "df2[columns_to_impute] = df2[columns_to_impute].fillna(df2[columns_to_impute].mean())\n",
    "df2.head()"
   ]
  },
  {
   "cell_type": "markdown",
   "id": "4a5f6e54",
   "metadata": {},
   "source": [
    "### OUTLIERS"
   ]
  },
  {
   "cell_type": "code",
   "execution_count": 15,
   "id": "517f5719",
   "metadata": {},
   "outputs": [],
   "source": [
    "from sklearn.preprocessing import StandardScaler"
   ]
  },
  {
   "cell_type": "code",
   "execution_count": 16,
   "id": "998c52a8",
   "metadata": {},
   "outputs": [
    {
     "data": {
      "text/html": [
       "<div>\n",
       "<style scoped>\n",
       "    .dataframe tbody tr th:only-of-type {\n",
       "        vertical-align: middle;\n",
       "    }\n",
       "\n",
       "    .dataframe tbody tr th {\n",
       "        vertical-align: top;\n",
       "    }\n",
       "\n",
       "    .dataframe thead th {\n",
       "        text-align: right;\n",
       "    }\n",
       "</style>\n",
       "<table border=\"1\" class=\"dataframe\">\n",
       "  <thead>\n",
       "    <tr style=\"text-align: right;\">\n",
       "      <th></th>\n",
       "      <th>Days (ignition)</th>\n",
       "      <th>Total Production</th>\n",
       "      <th>No. of Trips</th>\n",
       "      <th>Ignition On Hrs</th>\n",
       "      <th>Utilization Hrs</th>\n",
       "      <th>Distance (Km)</th>\n",
       "      <th>Speed (Km/h)</th>\n",
       "      <th>Loading Time (min)</th>\n",
       "      <th>Unloading Time (min)</th>\n",
       "      <th>Total Emissions</th>\n",
       "    </tr>\n",
       "  </thead>\n",
       "  <tbody>\n",
       "    <tr>\n",
       "      <th>0</th>\n",
       "      <td>-0.284714</td>\n",
       "      <td>0.663650</td>\n",
       "      <td>0.615909</td>\n",
       "      <td>0.251795</td>\n",
       "      <td>-0.018745</td>\n",
       "      <td>-0.164502</td>\n",
       "      <td>-0.363006</td>\n",
       "      <td>-0.128823</td>\n",
       "      <td>-1.099380</td>\n",
       "      <td>0.621638</td>\n",
       "    </tr>\n",
       "    <tr>\n",
       "      <th>1</th>\n",
       "      <td>0.384364</td>\n",
       "      <td>0.003566</td>\n",
       "      <td>0.313084</td>\n",
       "      <td>0.362202</td>\n",
       "      <td>0.162192</td>\n",
       "      <td>0.280236</td>\n",
       "      <td>-0.251783</td>\n",
       "      <td>-0.796512</td>\n",
       "      <td>0.554548</td>\n",
       "      <td>1.035262</td>\n",
       "    </tr>\n",
       "    <tr>\n",
       "      <th>2</th>\n",
       "      <td>0.384364</td>\n",
       "      <td>0.975840</td>\n",
       "      <td>0.845021</td>\n",
       "      <td>0.684533</td>\n",
       "      <td>0.787689</td>\n",
       "      <td>0.663523</td>\n",
       "      <td>-0.340751</td>\n",
       "      <td>-0.136054</td>\n",
       "      <td>0.698933</td>\n",
       "      <td>1.641569</td>\n",
       "    </tr>\n",
       "    <tr>\n",
       "      <th>3</th>\n",
       "      <td>0.384364</td>\n",
       "      <td>0.790630</td>\n",
       "      <td>0.904789</td>\n",
       "      <td>0.759713</td>\n",
       "      <td>0.369274</td>\n",
       "      <td>0.253429</td>\n",
       "      <td>-0.310274</td>\n",
       "      <td>-1.217492</td>\n",
       "      <td>0.998817</td>\n",
       "      <td>-0.641680</td>\n",
       "    </tr>\n",
       "    <tr>\n",
       "      <th>4</th>\n",
       "      <td>0.049825</td>\n",
       "      <td>0.871319</td>\n",
       "      <td>0.890843</td>\n",
       "      <td>0.502359</td>\n",
       "      <td>0.816496</td>\n",
       "      <td>0.356186</td>\n",
       "      <td>-0.461402</td>\n",
       "      <td>-0.294603</td>\n",
       "      <td>-0.161781</td>\n",
       "      <td>-0.694165</td>\n",
       "    </tr>\n",
       "  </tbody>\n",
       "</table>\n",
       "</div>"
      ],
      "text/plain": [
       "   Days (ignition)  Total Production  No. of Trips  Ignition On Hrs  \\\n",
       "0        -0.284714          0.663650      0.615909         0.251795   \n",
       "1         0.384364          0.003566      0.313084         0.362202   \n",
       "2         0.384364          0.975840      0.845021         0.684533   \n",
       "3         0.384364          0.790630      0.904789         0.759713   \n",
       "4         0.049825          0.871319      0.890843         0.502359   \n",
       "\n",
       "   Utilization Hrs  Distance (Km)  Speed (Km/h)  Loading Time (min)  \\\n",
       "0        -0.018745      -0.164502     -0.363006           -0.128823   \n",
       "1         0.162192       0.280236     -0.251783           -0.796512   \n",
       "2         0.787689       0.663523     -0.340751           -0.136054   \n",
       "3         0.369274       0.253429     -0.310274           -1.217492   \n",
       "4         0.816496       0.356186     -0.461402           -0.294603   \n",
       "\n",
       "   Unloading Time (min)  Total Emissions  \n",
       "0             -1.099380         0.621638  \n",
       "1              0.554548         1.035262  \n",
       "2              0.698933         1.641569  \n",
       "3              0.998817        -0.641680  \n",
       "4             -0.161781        -0.694165  "
      ]
     },
     "execution_count": 16,
     "metadata": {},
     "output_type": "execute_result"
    }
   ],
   "source": [
    "scaler = StandardScaler()\n",
    "df4 = scaler.fit_transform(df2.drop('Truck Name', axis=1))\n",
    "df4 = pd.DataFrame(df4, columns=df2.columns[1:])\n",
    "df4.head()"
   ]
  },
  {
   "cell_type": "code",
   "execution_count": 17,
   "id": "74eb1f8f",
   "metadata": {},
   "outputs": [
    {
     "data": {
      "image/png": "[encoded data removed]",
      "text/plain": [
       "<Figure size 600x400 with 1 Axes>"
      ]
     },
     "metadata": {},
     "output_type": "display_data"
    }
   ],
   "source": [
    "plt.figure(figsize=(6, 4))\n",
    "sns.boxplot(data=df4)\n",
    "plt.title('Standardized columns')\n",
    "plt.xticks(rotation=90, ha='right')\n",
    "plt.show()"
   ]
  },
  {
   "cell_type": "code",
   "execution_count": 18,
   "id": "89183e01",
   "metadata": {},
   "outputs": [],
   "source": [
    "from scipy import stats"
   ]
  },
  {
   "cell_type": "code",
   "execution_count": 19,
   "id": "5bf033d6",
   "metadata": {},
   "outputs": [
    {
     "data": {
      "text/html": [
       "<div>\n",
       "<style scoped>\n",
       "    .dataframe tbody tr th:only-of-type {\n",
       "        vertical-align: middle;\n",
       "    }\n",
       "\n",
       "    .dataframe tbody tr th {\n",
       "        vertical-align: top;\n",
       "    }\n",
       "\n",
       "    .dataframe thead th {\n",
       "        text-align: right;\n",
       "    }\n",
       "</style>\n",
       "<table border=\"1\" class=\"dataframe\">\n",
       "  <thead>\n",
       "    <tr style=\"text-align: right;\">\n",
       "      <th></th>\n",
       "      <th>Truck Name</th>\n",
       "      <th>Days (ignition)</th>\n",
       "      <th>Total Production</th>\n",
       "      <th>No. of Trips</th>\n",
       "      <th>Ignition On Hrs</th>\n",
       "      <th>Utilization Hrs</th>\n",
       "      <th>Distance (Km)</th>\n",
       "      <th>Speed (Km/h)</th>\n",
       "      <th>Loading Time (min)</th>\n",
       "      <th>Unloading Time (min)</th>\n",
       "      <th>Total Emissions</th>\n",
       "    </tr>\n",
       "  </thead>\n",
       "  <tbody>\n",
       "    <tr>\n",
       "      <th>37</th>\n",
       "      <td>A-40</td>\n",
       "      <td>18</td>\n",
       "      <td>1226.953146</td>\n",
       "      <td>65</td>\n",
       "      <td>150.619442</td>\n",
       "      <td>48.133611</td>\n",
       "      <td>1944.76</td>\n",
       "      <td>37.693059</td>\n",
       "      <td>2.891667</td>\n",
       "      <td>2.049306</td>\n",
       "      <td>3065.7</td>\n",
       "    </tr>\n",
       "    <tr>\n",
       "      <th>44</th>\n",
       "      <td>A-48</td>\n",
       "      <td>15</td>\n",
       "      <td>413.233574</td>\n",
       "      <td>20</td>\n",
       "      <td>91.208611</td>\n",
       "      <td>48.665278</td>\n",
       "      <td>2261.10</td>\n",
       "      <td>45.395546</td>\n",
       "      <td>3.618053</td>\n",
       "      <td>1.383333</td>\n",
       "      <td>891.5</td>\n",
       "    </tr>\n",
       "  </tbody>\n",
       "</table>\n",
       "</div>"
      ],
      "text/plain": [
       "   Truck Name  Days (ignition)  Total Production  No. of Trips  \\\n",
       "37       A-40               18       1226.953146            65   \n",
       "44       A-48               15        413.233574            20   \n",
       "\n",
       "    Ignition On Hrs  Utilization Hrs  Distance (Km)  Speed (Km/h)  \\\n",
       "37       150.619442        48.133611        1944.76     37.693059   \n",
       "44        91.208611        48.665278        2261.10     45.395546   \n",
       "\n",
       "    Loading Time (min)  Unloading Time (min)  Total Emissions  \n",
       "37            2.891667              2.049306           3065.7  \n",
       "44            3.618053              1.383333            891.5  "
      ]
     },
     "execution_count": 19,
     "metadata": {},
     "output_type": "execute_result"
    }
   ],
   "source": [
    "z_scores = stats.zscore(df4)\n",
    "threshold = 3\n",
    "outliers = (z_scores > threshold) | (z_scores < -threshold)\n",
    "\n",
    "df4[\"Truck Name\"] = df2[\"Truck Name\"]\n",
    "df2[outliers.any(axis=1)]"
   ]
  },
  {
   "cell_type": "markdown",
   "id": "8a71dc95",
   "metadata": {},
   "source": [
    "#### Outlier does not seem to be data errors or random error\n",
    "##### Very much possible the day of ignition were less for particular trucks, however speed limit is 25kmph, and Truck A-48 is violating it by far"
   ]
  },
  {
   "cell_type": "code",
   "execution_count": null,
   "id": "88b15822",
   "metadata": {},
   "outputs": [],
   "source": []
  },
  {
   "cell_type": "markdown",
   "id": "198df5cb",
   "metadata": {},
   "source": [
    "### ANALYSIS - PROJECT PROGRESS"
   ]
  },
  {
   "cell_type": "code",
   "execution_count": 20,
   "id": "ba0658ff",
   "metadata": {},
   "outputs": [
    {
     "name": "stdout",
     "output_type": "stream",
     "text": [
      "Total excavation required (m3) -> 2200000\n",
      "Total excavation in October (m3) -> 874404\n",
      "Excavation completed in October (%) -> 40\n",
      "Daily excavation in October (m3) -> 28207\n",
      "No of days to complete excavation required at the october rate -> 47\n"
     ]
    }
   ],
   "source": [
    "total_exc = 2200000\n",
    "print(\"Total excavation required (m3) ->\",round(total_exc))\n",
    "oct_exc = df2[\"Total Production\"].sum()\n",
    "print(\"Total excavation in October (m3) ->\",round(oct_exc))\n",
    "oct_exc_p = oct_exc*100/total_exc\n",
    "print(\"Excavation completed in October (%) ->\", round(oct_exc_p ))\n",
    "oct_rate = oct_exc/31\n",
    "print(\"Daily excavation in October (m3) ->\", round(oct_rate ))\n",
    "print(\"No of days to complete excavation required at the october rate ->\", round((total_exc-oct_exc)/(oct_rate)))\n"
   ]
  },
  {
   "cell_type": "markdown",
   "id": "8a7f032b",
   "metadata": {},
   "source": [
    "##### Excavation is expected to completed by mid december (17th) at october rate"
   ]
  },
  {
   "cell_type": "code",
   "execution_count": null,
   "id": "111b182c",
   "metadata": {},
   "outputs": [],
   "source": []
  },
  {
   "cell_type": "markdown",
   "id": "94574582",
   "metadata": {},
   "source": [
    "### ANALYSIS - EMISSION INVESTIGATION"
   ]
  },
  {
   "cell_type": "code",
   "execution_count": 21,
   "id": "5b5f3ffa",
   "metadata": {},
   "outputs": [
    {
     "data": {
      "text/html": [
       "<div>\n",
       "<style scoped>\n",
       "    .dataframe tbody tr th:only-of-type {\n",
       "        vertical-align: middle;\n",
       "    }\n",
       "\n",
       "    .dataframe tbody tr th {\n",
       "        vertical-align: top;\n",
       "    }\n",
       "\n",
       "    .dataframe thead th {\n",
       "        text-align: right;\n",
       "    }\n",
       "</style>\n",
       "<table border=\"1\" class=\"dataframe\">\n",
       "  <thead>\n",
       "    <tr style=\"text-align: right;\">\n",
       "      <th></th>\n",
       "      <th>Truck Name</th>\n",
       "      <th>Total Emissions</th>\n",
       "    </tr>\n",
       "  </thead>\n",
       "  <tbody>\n",
       "    <tr>\n",
       "      <th>2</th>\n",
       "      <td>A-3</td>\n",
       "      <td>15392.6</td>\n",
       "    </tr>\n",
       "    <tr>\n",
       "      <th>7</th>\n",
       "      <td>A-8</td>\n",
       "      <td>15550.1</td>\n",
       "    </tr>\n",
       "    <tr>\n",
       "      <th>15</th>\n",
       "      <td>A-16</td>\n",
       "      <td>16865.4</td>\n",
       "    </tr>\n",
       "    <tr>\n",
       "      <th>21</th>\n",
       "      <td>A-23</td>\n",
       "      <td>14814.6</td>\n",
       "    </tr>\n",
       "  </tbody>\n",
       "</table>\n",
       "</div>"
      ],
      "text/plain": [
       "   Truck Name  Total Emissions\n",
       "2         A-3          15392.6\n",
       "7         A-8          15550.1\n",
       "15       A-16          16865.4\n",
       "21       A-23          14814.6"
      ]
     },
     "execution_count": 21,
     "metadata": {},
     "output_type": "execute_result"
    }
   ],
   "source": [
    "z_scores_emissions = stats.zscore(df4['Total Emissions'])\n",
    "\n",
    "outliers_emissions = (z_scores_emissions > 1.5)\n",
    "emissions_df = df4[outliers_emissions]\n",
    "high_em = df2[outliers_emissions]\n",
    "high_em = high_em[['Truck Name','Total Emissions']]\n",
    "high_em"
   ]
  },
  {
   "cell_type": "code",
   "execution_count": 22,
   "id": "49b9d212",
   "metadata": {},
   "outputs": [
    {
     "name": "stdout",
     "output_type": "stream",
     "text": [
      "Average emission from the fleet -> 8021\n"
     ]
    }
   ],
   "source": [
    "print(\"Average emission from the fleet ->\", round(df2[\"Total Emissions\"].mean()))"
   ]
  },
  {
   "cell_type": "markdown",
   "id": "c96adba6",
   "metadata": {},
   "source": [
    "#### Lets analyse the impact of removal of 4 trucks with higher emmision (~2x of average truck emission) from the fleet "
   ]
  },
  {
   "cell_type": "code",
   "execution_count": 23,
   "id": "09a1ff36",
   "metadata": {},
   "outputs": [],
   "source": [
    "df5 = df2.drop(df2[outliers_emissions].index)"
   ]
  },
  {
   "cell_type": "code",
   "execution_count": 24,
   "id": "dfa0153c",
   "metadata": {},
   "outputs": [
    {
     "name": "stdout",
     "output_type": "stream",
     "text": [
      "Total excavation in October (m3) -> 775014\n",
      "Excavation completed in October (%) -> 35\n",
      "Daily excavation in October (m3) -> 25000\n",
      "No of days to complete excavation required at the october rate -> 57\n"
     ]
    }
   ],
   "source": [
    "oct_exc = df5[\"Total Production\"].sum()\n",
    "print(\"Total excavation in October (m3) ->\",round(oct_exc))\n",
    "oct_exc_p = oct_exc*100/total_exc\n",
    "print(\"Excavation completed in October (%) ->\", round(oct_exc_p ))\n",
    "oct_rate = oct_exc/31\n",
    "print(\"Daily excavation in October (m3) ->\", round(oct_rate ))\n",
    "print(\"No of days to complete excavation required at the october rate ->\", round((total_exc-oct_exc)/(oct_rate)))\n"
   ]
  },
  {
   "cell_type": "markdown",
   "id": "c4b1ad60",
   "metadata": {},
   "source": [
    "##### Even after removal of high emission trucks, we shall still be able to complete the excavation before deadline"
   ]
  },
  {
   "cell_type": "code",
   "execution_count": 25,
   "id": "964afdda",
   "metadata": {},
   "outputs": [
    {
     "name": "stdout",
     "output_type": "stream",
     "text": [
      "Emission reduced -> 62623\n",
      "Emission reduced -> 19.9 %\n"
     ]
    }
   ],
   "source": [
    "emssion_redu = (df2[\"Total Emissions\"].sum() - df5[\"Total Emissions\"].sum())\n",
    "print(\"Emission reduced ->\", round(emssion_redu))\n",
    "print(\"Emission reduced ->\", round(emssion_redu*100/df5[\"Total Emissions\"].sum(),1), \"%\")"
   ]
  },
  {
   "cell_type": "markdown",
   "id": "774a531c",
   "metadata": {},
   "source": [
    "##### This decision will lead to a 20% decrease in the total emission in the next 2 months"
   ]
  },
  {
   "cell_type": "code",
   "execution_count": null,
   "id": "4d453e0b",
   "metadata": {},
   "outputs": [],
   "source": []
  },
  {
   "cell_type": "markdown",
   "id": "1ea7d207",
   "metadata": {},
   "source": [
    "### ANALYSIS - SPEED LIMIT"
   ]
  },
  {
   "cell_type": "markdown",
   "id": "92fa1ba5",
   "metadata": {},
   "source": [
    "#### Due to safety reasons cannot move more than 25 km/hour speed."
   ]
  },
  {
   "cell_type": "markdown",
   "id": "e84663f8",
   "metadata": {},
   "source": [
    "since what we have is avg (not max) speed, we shall lower the threshold by 3 to be more precise in the analysis\n"
   ]
  },
  {
   "cell_type": "code",
   "execution_count": 26,
   "id": "bfa4cfa4",
   "metadata": {},
   "outputs": [
    {
     "data": {
      "text/html": [
       "<div>\n",
       "<style scoped>\n",
       "    .dataframe tbody tr th:only-of-type {\n",
       "        vertical-align: middle;\n",
       "    }\n",
       "\n",
       "    .dataframe tbody tr th {\n",
       "        vertical-align: top;\n",
       "    }\n",
       "\n",
       "    .dataframe thead th {\n",
       "        text-align: right;\n",
       "    }\n",
       "</style>\n",
       "<table border=\"1\" class=\"dataframe\">\n",
       "  <thead>\n",
       "    <tr style=\"text-align: right;\">\n",
       "      <th></th>\n",
       "      <th>Truck Name</th>\n",
       "      <th>Distance (Km)</th>\n",
       "      <th>Speed (Km/h)</th>\n",
       "      <th>Total Production</th>\n",
       "    </tr>\n",
       "  </thead>\n",
       "  <tbody>\n",
       "    <tr>\n",
       "      <th>19</th>\n",
       "      <td>A-20</td>\n",
       "      <td>804.96</td>\n",
       "      <td>24.630373</td>\n",
       "      <td>1207.373682</td>\n",
       "    </tr>\n",
       "    <tr>\n",
       "      <th>36</th>\n",
       "      <td>A-39</td>\n",
       "      <td>4745.59</td>\n",
       "      <td>34.654694</td>\n",
       "      <td>4376.158593</td>\n",
       "    </tr>\n",
       "    <tr>\n",
       "      <th>37</th>\n",
       "      <td>A-40</td>\n",
       "      <td>1944.76</td>\n",
       "      <td>37.693059</td>\n",
       "      <td>1226.953146</td>\n",
       "    </tr>\n",
       "    <tr>\n",
       "      <th>38</th>\n",
       "      <td>A-41</td>\n",
       "      <td>3693.43</td>\n",
       "      <td>38.546182</td>\n",
       "      <td>814.754538</td>\n",
       "    </tr>\n",
       "    <tr>\n",
       "      <th>44</th>\n",
       "      <td>A-48</td>\n",
       "      <td>2261.10</td>\n",
       "      <td>45.395546</td>\n",
       "      <td>413.233574</td>\n",
       "    </tr>\n",
       "  </tbody>\n",
       "</table>\n",
       "</div>"
      ],
      "text/plain": [
       "   Truck Name  Distance (Km)  Speed (Km/h)  Total Production\n",
       "19       A-20         804.96     24.630373       1207.373682\n",
       "36       A-39        4745.59     34.654694       4376.158593\n",
       "37       A-40        1944.76     37.693059       1226.953146\n",
       "38       A-41        3693.43     38.546182        814.754538\n",
       "44       A-48        2261.10     45.395546        413.233574"
      ]
     },
     "execution_count": 26,
     "metadata": {},
     "output_type": "execute_result"
    }
   ],
   "source": [
    "df5[df5['Speed (Km/h)'] > 22]\n",
    "spd = df5[df5['Speed (Km/h)'] > 22]\n",
    "spd = spd[['Truck Name','Distance (Km)','Speed (Km/h)',\"Total Production\"]]\n",
    "spd"
   ]
  },
  {
   "cell_type": "code",
   "execution_count": 27,
   "id": "4e5ee43c",
   "metadata": {},
   "outputs": [
    {
     "data": {
      "text/plain": [
       "18023.577835790697"
      ]
     },
     "execution_count": 27,
     "metadata": {},
     "output_type": "execute_result"
    }
   ],
   "source": [
    "df5[\"Total Production\"].mean()"
   ]
  },
  {
   "cell_type": "markdown",
   "id": "1ada4e8e",
   "metadata": {},
   "source": [
    "#### Sum of Total Production of these 5 trucks is less than the prodcution of 1 average truck                          \n",
    "Due to its non safe driving coupled with lower efficiency, we have to notify this matter to the superviser of the drivers                                                  \n",
    "It could also be that these are not normal trucks but high speed, less capacity truck in safe environment with different tasks, in that case we need to remove them from certain analysis (such as production time) however involve them in certain analysis (such as cost analsyis)"
   ]
  },
  {
   "cell_type": "code",
   "execution_count": null,
   "id": "e49051b5",
   "metadata": {},
   "outputs": [],
   "source": []
  },
  {
   "cell_type": "markdown",
   "id": "842a5013",
   "metadata": {},
   "source": [
    "### ANALYSIS - EFFICIENCY"
   ]
  },
  {
   "cell_type": "markdown",
   "id": "2f32e322",
   "metadata": {},
   "source": [
    "##### We observed good correlation (0.7) between production and ignition on hrs"
   ]
  },
  {
   "cell_type": "markdown",
   "id": "d6b0e8bc",
   "metadata": {},
   "source": [
    "### Lets introduce a metrics\n",
    "#### Efficiency = Total Production / Ignition On Hrs"
   ]
  },
  {
   "cell_type": "code",
   "execution_count": 28,
   "id": "3fcaeefd",
   "metadata": {},
   "outputs": [
    {
     "data": {
      "text/html": [
       "<div>\n",
       "<style scoped>\n",
       "    .dataframe tbody tr th:only-of-type {\n",
       "        vertical-align: middle;\n",
       "    }\n",
       "\n",
       "    .dataframe tbody tr th {\n",
       "        vertical-align: top;\n",
       "    }\n",
       "\n",
       "    .dataframe thead th {\n",
       "        text-align: right;\n",
       "    }\n",
       "</style>\n",
       "<table border=\"1\" class=\"dataframe\">\n",
       "  <thead>\n",
       "    <tr style=\"text-align: right;\">\n",
       "      <th></th>\n",
       "      <th>Truck Name</th>\n",
       "      <th>Days (ignition)</th>\n",
       "      <th>Total Production</th>\n",
       "      <th>No. of Trips</th>\n",
       "      <th>Ignition On Hrs</th>\n",
       "      <th>Utilization Hrs</th>\n",
       "      <th>Distance (Km)</th>\n",
       "      <th>Speed (Km/h)</th>\n",
       "      <th>Loading Time (min)</th>\n",
       "      <th>Unloading Time (min)</th>\n",
       "      <th>Total Emissions</th>\n",
       "      <th>Efficiency</th>\n",
       "      <th>Daily Ignition On Hrs</th>\n",
       "    </tr>\n",
       "  </thead>\n",
       "  <tbody>\n",
       "    <tr>\n",
       "      <th>0</th>\n",
       "      <td>A-1</td>\n",
       "      <td>28</td>\n",
       "      <td>25020.21786</td>\n",
       "      <td>1312</td>\n",
       "      <td>489.077222</td>\n",
       "      <td>192.811911</td>\n",
       "      <td>2295.69</td>\n",
       "      <td>10.361135</td>\n",
       "      <td>3.522476</td>\n",
       "      <td>1.779959</td>\n",
       "      <td>10812.3</td>\n",
       "      <td>51.158011</td>\n",
       "      <td>17.467044</td>\n",
       "    </tr>\n",
       "    <tr>\n",
       "      <th>1</th>\n",
       "      <td>A-2</td>\n",
       "      <td>30</td>\n",
       "      <td>18638.81847</td>\n",
       "      <td>1160</td>\n",
       "      <td>505.339167</td>\n",
       "      <td>207.108319</td>\n",
       "      <td>2677.60</td>\n",
       "      <td>11.304072</td>\n",
       "      <td>3.027102</td>\n",
       "      <td>2.276468</td>\n",
       "      <td>12669.8</td>\n",
       "      <td>36.883780</td>\n",
       "      <td>16.844639</td>\n",
       "    </tr>\n",
       "    <tr>\n",
       "      <th>3</th>\n",
       "      <td>A-4</td>\n",
       "      <td>30</td>\n",
       "      <td>26247.80188</td>\n",
       "      <td>1457</td>\n",
       "      <td>563.888889</td>\n",
       "      <td>223.470542</td>\n",
       "      <td>2654.58</td>\n",
       "      <td>10.808195</td>\n",
       "      <td>2.714766</td>\n",
       "      <td>2.409837</td>\n",
       "      <td>5139.0</td>\n",
       "      <td>46.547826</td>\n",
       "      <td>18.796296</td>\n",
       "    </tr>\n",
       "    <tr>\n",
       "      <th>4</th>\n",
       "      <td>A-5</td>\n",
       "      <td>29</td>\n",
       "      <td>27027.86375</td>\n",
       "      <td>1450</td>\n",
       "      <td>525.983056</td>\n",
       "      <td>258.806931</td>\n",
       "      <td>2742.82</td>\n",
       "      <td>9.526938</td>\n",
       "      <td>3.399480</td>\n",
       "      <td>2.061426</td>\n",
       "      <td>4903.3</td>\n",
       "      <td>51.385427</td>\n",
       "      <td>18.137347</td>\n",
       "    </tr>\n",
       "    <tr>\n",
       "      <th>5</th>\n",
       "      <td>A-6</td>\n",
       "      <td>28</td>\n",
       "      <td>24061.73806</td>\n",
       "      <td>1195</td>\n",
       "      <td>425.992222</td>\n",
       "      <td>177.835517</td>\n",
       "      <td>2266.85</td>\n",
       "      <td>11.404089</td>\n",
       "      <td>3.279764</td>\n",
       "      <td>2.016643</td>\n",
       "      <td>10954.8</td>\n",
       "      <td>56.483984</td>\n",
       "      <td>15.214008</td>\n",
       "    </tr>\n",
       "  </tbody>\n",
       "</table>\n",
       "</div>"
      ],
      "text/plain": [
       "  Truck Name  Days (ignition)  Total Production  No. of Trips  \\\n",
       "0        A-1               28       25020.21786          1312   \n",
       "1        A-2               30       18638.81847          1160   \n",
       "3        A-4               30       26247.80188          1457   \n",
       "4        A-5               29       27027.86375          1450   \n",
       "5        A-6               28       24061.73806          1195   \n",
       "\n",
       "   Ignition On Hrs  Utilization Hrs  Distance (Km)  Speed (Km/h)  \\\n",
       "0       489.077222       192.811911        2295.69     10.361135   \n",
       "1       505.339167       207.108319        2677.60     11.304072   \n",
       "3       563.888889       223.470542        2654.58     10.808195   \n",
       "4       525.983056       258.806931        2742.82      9.526938   \n",
       "5       425.992222       177.835517        2266.85     11.404089   \n",
       "\n",
       "   Loading Time (min)  Unloading Time (min)  Total Emissions  Efficiency  \\\n",
       "0            3.522476              1.779959          10812.3   51.158011   \n",
       "1            3.027102              2.276468          12669.8   36.883780   \n",
       "3            2.714766              2.409837           5139.0   46.547826   \n",
       "4            3.399480              2.061426           4903.3   51.385427   \n",
       "5            3.279764              2.016643          10954.8   56.483984   \n",
       "\n",
       "   Daily Ignition On Hrs  \n",
       "0              17.467044  \n",
       "1              16.844639  \n",
       "3              18.796296  \n",
       "4              18.137347  \n",
       "5              15.214008  "
      ]
     },
     "execution_count": 28,
     "metadata": {},
     "output_type": "execute_result"
    }
   ],
   "source": [
    "df6 = df5.copy()\n",
    "df6['Efficiency'] = df6['Total Production'] / df6['Ignition On Hrs']\n",
    "df6['Daily Ignition On Hrs'] = df6['Ignition On Hrs'] / df6['Days (ignition)']\n",
    "\n",
    "df6.head()"
   ]
  },
  {
   "cell_type": "code",
   "execution_count": null,
   "id": "11881b63",
   "metadata": {},
   "outputs": [],
   "source": []
  },
  {
   "cell_type": "code",
   "execution_count": 29,
   "id": "247f35ca",
   "metadata": {},
   "outputs": [
    {
     "data": {
      "text/html": [
       "<div>\n",
       "<style scoped>\n",
       "    .dataframe tbody tr th:only-of-type {\n",
       "        vertical-align: middle;\n",
       "    }\n",
       "\n",
       "    .dataframe tbody tr th {\n",
       "        vertical-align: top;\n",
       "    }\n",
       "\n",
       "    .dataframe thead th {\n",
       "        text-align: right;\n",
       "    }\n",
       "</style>\n",
       "<table border=\"1\" class=\"dataframe\">\n",
       "  <thead>\n",
       "    <tr style=\"text-align: right;\">\n",
       "      <th></th>\n",
       "      <th>Truck Name</th>\n",
       "      <th>Days (ignition)</th>\n",
       "      <th>Total Production</th>\n",
       "      <th>No. of Trips</th>\n",
       "      <th>Ignition On Hrs</th>\n",
       "      <th>Utilization Hrs</th>\n",
       "      <th>Distance (Km)</th>\n",
       "      <th>Speed (Km/h)</th>\n",
       "      <th>Loading Time (min)</th>\n",
       "      <th>Unloading Time (min)</th>\n",
       "      <th>Total Emissions</th>\n",
       "      <th>Efficiency</th>\n",
       "      <th>Daily Ignition On Hrs</th>\n",
       "    </tr>\n",
       "  </thead>\n",
       "  <tbody>\n",
       "    <tr>\n",
       "      <th>27</th>\n",
       "      <td>A-29</td>\n",
       "      <td>24</td>\n",
       "      <td>1249.308116</td>\n",
       "      <td>69</td>\n",
       "      <td>175.713333</td>\n",
       "      <td>22.679169</td>\n",
       "      <td>523.28</td>\n",
       "      <td>20.730801</td>\n",
       "      <td>3.488889</td>\n",
       "      <td>2.296852</td>\n",
       "      <td>1295.900000</td>\n",
       "      <td>7.109922</td>\n",
       "      <td>7.321389</td>\n",
       "    </tr>\n",
       "    <tr>\n",
       "      <th>29</th>\n",
       "      <td>A-31</td>\n",
       "      <td>30</td>\n",
       "      <td>3373.503492</td>\n",
       "      <td>196</td>\n",
       "      <td>556.374722</td>\n",
       "      <td>274.068594</td>\n",
       "      <td>3021.20</td>\n",
       "      <td>10.032445</td>\n",
       "      <td>3.030210</td>\n",
       "      <td>1.719394</td>\n",
       "      <td>8966.500000</td>\n",
       "      <td>6.063366</td>\n",
       "      <td>18.545824</td>\n",
       "    </tr>\n",
       "    <tr>\n",
       "      <th>37</th>\n",
       "      <td>A-40</td>\n",
       "      <td>18</td>\n",
       "      <td>1226.953146</td>\n",
       "      <td>65</td>\n",
       "      <td>150.619442</td>\n",
       "      <td>48.133611</td>\n",
       "      <td>1944.76</td>\n",
       "      <td>37.693059</td>\n",
       "      <td>2.891667</td>\n",
       "      <td>2.049306</td>\n",
       "      <td>3065.700000</td>\n",
       "      <td>8.146048</td>\n",
       "      <td>8.367747</td>\n",
       "    </tr>\n",
       "    <tr>\n",
       "      <th>38</th>\n",
       "      <td>A-41</td>\n",
       "      <td>28</td>\n",
       "      <td>814.754538</td>\n",
       "      <td>121</td>\n",
       "      <td>174.578889</td>\n",
       "      <td>92.239428</td>\n",
       "      <td>3693.43</td>\n",
       "      <td>38.546182</td>\n",
       "      <td>1.504136</td>\n",
       "      <td>1.431888</td>\n",
       "      <td>8020.651111</td>\n",
       "      <td>4.666971</td>\n",
       "      <td>6.234960</td>\n",
       "    </tr>\n",
       "    <tr>\n",
       "      <th>44</th>\n",
       "      <td>A-48</td>\n",
       "      <td>15</td>\n",
       "      <td>413.233574</td>\n",
       "      <td>20</td>\n",
       "      <td>91.208611</td>\n",
       "      <td>48.665278</td>\n",
       "      <td>2261.10</td>\n",
       "      <td>45.395546</td>\n",
       "      <td>3.618053</td>\n",
       "      <td>1.383333</td>\n",
       "      <td>891.500000</td>\n",
       "      <td>4.530642</td>\n",
       "      <td>6.080574</td>\n",
       "    </tr>\n",
       "    <tr>\n",
       "      <th>46</th>\n",
       "      <td>A-50</td>\n",
       "      <td>24</td>\n",
       "      <td>333.609923</td>\n",
       "      <td>17</td>\n",
       "      <td>59.876389</td>\n",
       "      <td>6.502222</td>\n",
       "      <td>134.76</td>\n",
       "      <td>20.960331</td>\n",
       "      <td>1.574074</td>\n",
       "      <td>2.109993</td>\n",
       "      <td>327.000000</td>\n",
       "      <td>5.571644</td>\n",
       "      <td>2.494850</td>\n",
       "    </tr>\n",
       "  </tbody>\n",
       "</table>\n",
       "</div>"
      ],
      "text/plain": [
       "   Truck Name  Days (ignition)  Total Production  No. of Trips  \\\n",
       "27       A-29               24       1249.308116            69   \n",
       "29       A-31               30       3373.503492           196   \n",
       "37       A-40               18       1226.953146            65   \n",
       "38       A-41               28        814.754538           121   \n",
       "44       A-48               15        413.233574            20   \n",
       "46       A-50               24        333.609923            17   \n",
       "\n",
       "    Ignition On Hrs  Utilization Hrs  Distance (Km)  Speed (Km/h)  \\\n",
       "27       175.713333        22.679169         523.28     20.730801   \n",
       "29       556.374722       274.068594        3021.20     10.032445   \n",
       "37       150.619442        48.133611        1944.76     37.693059   \n",
       "38       174.578889        92.239428        3693.43     38.546182   \n",
       "44        91.208611        48.665278        2261.10     45.395546   \n",
       "46        59.876389         6.502222         134.76     20.960331   \n",
       "\n",
       "    Loading Time (min)  Unloading Time (min)  Total Emissions  Efficiency  \\\n",
       "27            3.488889              2.296852      1295.900000    7.109922   \n",
       "29            3.030210              1.719394      8966.500000    6.063366   \n",
       "37            2.891667              2.049306      3065.700000    8.146048   \n",
       "38            1.504136              1.431888      8020.651111    4.666971   \n",
       "44            3.618053              1.383333       891.500000    4.530642   \n",
       "46            1.574074              2.109993       327.000000    5.571644   \n",
       "\n",
       "    Daily Ignition On Hrs  \n",
       "27               7.321389  \n",
       "29              18.545824  \n",
       "37               8.367747  \n",
       "38               6.234960  \n",
       "44               6.080574  \n",
       "46               2.494850  "
      ]
     },
     "execution_count": 29,
     "metadata": {},
     "output_type": "execute_result"
    }
   ],
   "source": [
    "metrics_df = df6[['Efficiency']]\n",
    "metrics_df.reset_index()\n",
    "\n",
    "z_scores_metric = stats.zscore(metrics_df)\n",
    "outliers_metric = (z_scores_metric < -1.5)\n",
    "metric_df = df6[outliers_metric.any(axis=1)]\n",
    "metric_df"
   ]
  },
  {
   "cell_type": "code",
   "execution_count": 30,
   "id": "16f737d8",
   "metadata": {},
   "outputs": [
    {
     "data": {
      "text/plain": [
       "<matplotlib.legend.Legend at 0x1262b4f50>"
      ]
     },
     "execution_count": 30,
     "metadata": {},
     "output_type": "execute_result"
    },
    {
     "data": {
      "image/png": "[encoded data removed]",
      "text/plain": [
       "<Figure size 640x480 with 1 Axes>"
      ]
     },
     "metadata": {},
     "output_type": "display_data"
    }
   ],
   "source": [
    "plt.plot(metric_df['Truck Name'], metric_df['Efficiency'], label='Efficiency', marker=0)\n",
    "plt.plot(metric_df['Truck Name'], metric_df['Daily Ignition On Hrs'], label='Daily Ignition On Hrs', marker=0)\n",
    "\n",
    "plt.xlabel('Truck Name')\n",
    "plt.xticks(rotation=90, ha='right')\n",
    "plt.ylabel('Values')\n",
    "plt.legend()"
   ]
  },
  {
   "cell_type": "markdown",
   "id": "83a1edf9",
   "metadata": {},
   "source": [
    "#### A20 A50 A41 A48  - field report and maintainence report required"
   ]
  },
  {
   "cell_type": "markdown",
   "id": "1624107f",
   "metadata": {},
   "source": [
    "The 5 trucks have the least Efficiency might need maintainence"
   ]
  },
  {
   "cell_type": "code",
   "execution_count": null,
   "id": "48950d73",
   "metadata": {},
   "outputs": [],
   "source": []
  },
  {
   "cell_type": "markdown",
   "id": "fc8381e4",
   "metadata": {},
   "source": [
    "### HYPOTHESIS TESTING"
   ]
  },
  {
   "cell_type": "code",
   "execution_count": 31,
   "id": "df985778",
   "metadata": {},
   "outputs": [],
   "source": [
    "import statsmodels.api as sm"
   ]
  },
  {
   "cell_type": "markdown",
   "id": "0dd8dc01",
   "metadata": {},
   "source": [
    "#### We are not cosidering 'No. of trips' due to very high correlation with total production, to avoid multi-collinearity\n",
    "Now we shall test the significance of other variable.\n",
    "##### Null Hypothesis: There is no significant relationship between Total Production and other variables. alpha = 0.05"
   ]
  },
  {
   "cell_type": "code",
   "execution_count": 32,
   "id": "b876feba",
   "metadata": {},
   "outputs": [
    {
     "name": "stdout",
     "output_type": "stream",
     "text": [
      "                            OLS Regression Results                            \n",
      "==============================================================================\n",
      "Dep. Variable:       Total Production   R-squared:                       0.740\n",
      "Model:                            OLS   Adj. R-squared:                  0.679\n",
      "Method:                 Least Squares   F-statistic:                     12.09\n",
      "Date:                Fri, 19 Jan 2024   Prob (F-statistic):           5.57e-08\n",
      "Time:                        00:34:58   Log-Likelihood:                -427.52\n",
      "No. Observations:                  43   AIC:                             873.0\n",
      "Df Residuals:                      34   BIC:                             888.9\n",
      "Df Model:                           8                                         \n",
      "Covariance Type:            nonrobust                                         \n",
      "========================================================================================\n",
      "                           coef    std err          t      P>|t|      [0.025      0.975]\n",
      "----------------------------------------------------------------------------------------\n",
      "const                 2052.7564   2.68e+04      0.077      0.939   -5.24e+04    5.65e+04\n",
      "Days (ignition)       -293.1463    698.156     -0.420      0.677   -1711.971    1125.678\n",
      "Ignition On Hrs         62.7146     25.697      2.440      0.020      10.491     114.938\n",
      "Utilization Hrs          8.1482     39.951      0.204      0.840     -73.041      89.338\n",
      "Distance (Km)           -3.2604      3.953     -0.825      0.415     -11.295       4.774\n",
      "Speed (Km/h)            36.7041    468.262      0.078      0.938    -914.918     988.327\n",
      "Loading Time (min)    2245.2994   1364.227      1.646      0.109    -527.144    5017.743\n",
      "Unloading Time (min) -2927.2174   3921.090     -0.747      0.460   -1.09e+04    5041.396\n",
      "Total Emissions          0.0451      0.279      0.162      0.872      -0.521       0.611\n",
      "==============================================================================\n",
      "Omnibus:                       26.678   Durbin-Watson:                   2.114\n",
      "Prob(Omnibus):                  0.000   Jarque-Bera (JB):               51.704\n",
      "Skew:                          -1.714   Prob(JB):                     5.92e-12\n",
      "Kurtosis:                       7.136   Cond. No.                     2.69e+05\n",
      "==============================================================================\n",
      "\n",
      "Notes:\n",
      "[1] Standard Errors assume that the covariance matrix of the errors is correctly specified.\n",
      "[2] The condition number is large, 2.69e+05. This might indicate that there are\n",
      "strong multicollinearity or other numerical problems.\n"
     ]
    }
   ],
   "source": [
    "X = df6[['Days (ignition)','Ignition On Hrs', 'Utilization Hrs', 'Distance (Km)', 'Speed (Km/h)', 'Loading Time (min)', 'Unloading Time (min)', 'Total Emissions']]\n",
    "y = df6['Total Production']\n",
    "X = sm.add_constant(X)\n",
    "model = sm.OLS(y, X).fit()\n",
    "\n",
    "print(model.summary())"
   ]
  },
  {
   "cell_type": "markdown",
   "id": "08864505",
   "metadata": {},
   "source": [
    "##### p-value of Ignition On Hrs is 0.02 (<0.05), so we reject the null hypothesis and confidently state that Total Production is directly dependant on Ignition On Hrs "
   ]
  },
  {
   "cell_type": "code",
   "execution_count": null,
   "id": "3a18f732",
   "metadata": {},
   "outputs": [],
   "source": []
  },
  {
   "cell_type": "markdown",
   "id": "9bd09d74",
   "metadata": {},
   "source": [
    "## CLUSTERING"
   ]
  },
  {
   "cell_type": "code",
   "execution_count": 33,
   "id": "18adc401",
   "metadata": {},
   "outputs": [],
   "source": [
    "# Based on cost and production "
   ]
  },
  {
   "cell_type": "markdown",
   "id": "a7cdb963",
   "metadata": {},
   "source": [
    "#### since cost is fixed for any truck at SAR1000/truck/day, we can substitute days (ignition) for cost"
   ]
  },
  {
   "cell_type": "code",
   "execution_count": 34,
   "id": "c592634c",
   "metadata": {},
   "outputs": [],
   "source": [
    "from sklearn.cluster import KMeans\n",
    "import warnings"
   ]
  },
  {
   "cell_type": "code",
   "execution_count": 35,
   "id": "95d3964c",
   "metadata": {},
   "outputs": [
    {
     "data": {
      "image/png": "[encoded data removed]",
      "text/plain": [
       "<Figure size 640x480 with 1 Axes>"
      ]
     },
     "metadata": {},
     "output_type": "display_data"
    }
   ],
   "source": [
    "features = df4[['Days (ignition)', 'Total Production']]\n",
    "import warnings\n",
    "warnings.filterwarnings(\"ignore\", category=FutureWarning)\n",
    "\n",
    "# elbow method\n",
    "distortions = []\n",
    "K_range = range(1, 8) \n",
    "\n",
    "for k in K_range:\n",
    "    kmeans = KMeans(n_clusters=k, random_state=38)\n",
    "    kmeans.fit(features)\n",
    "    distortions.append(kmeans.inertia_)\n",
    "\n",
    "plt.plot(K_range, distortions, marker='o')\n",
    "plt.xlabel('k')\n",
    "plt.ylabel('WCSS')\n",
    "plt.show()"
   ]
  },
  {
   "cell_type": "markdown",
   "id": "9bea600a",
   "metadata": {},
   "source": [
    "### k = 3"
   ]
  },
  {
   "cell_type": "code",
   "execution_count": 36,
   "id": "aad345e0",
   "metadata": {},
   "outputs": [
    {
     "data": {
      "image/png": "[encoded data removed]",
      "text/plain": [
       "<Figure size 640x480 with 1 Axes>"
      ]
     },
     "metadata": {},
     "output_type": "display_data"
    }
   ],
   "source": [
    "kmeans = KMeans(n_clusters=3, random_state=42)\n",
    "df4['Cluster'] = kmeans.fit_predict(features)\n",
    "cluster_df = df4[['Truck Name', 'Cluster']]\n",
    "\n",
    "plt.scatter(df4['Days (ignition)'], df4['Total Production'], c=df4['Cluster'], cmap='viridis')\n",
    "plt.xlabel('Days (ignition)')\n",
    "plt.ylabel('Total Production')\n",
    "plt.title('K-means clustering of Trucks based on Cost vs Production')\n",
    "plt.show()"
   ]
  },
  {
   "cell_type": "markdown",
   "id": "4fbc8a39",
   "metadata": {},
   "source": [
    "### More interesting cluster to look would be Production vs Emission\n"
   ]
  },
  {
   "cell_type": "code",
   "execution_count": 37,
   "id": "de96eab3",
   "metadata": {},
   "outputs": [
    {
     "data": {
      "image/png": "[encoded data removed]",
      "text/plain": [
       "<Figure size 640x480 with 1 Axes>"
      ]
     },
     "metadata": {},
     "output_type": "display_data"
    }
   ],
   "source": [
    "features = df4[['Total Emissions', 'Total Production']]\n",
    "kmeans = KMeans(n_clusters=3, random_state=38)\n",
    "df4['Cluster'] = kmeans.fit_predict(features)\n",
    "cluster_df = df4[['Truck Name', 'Cluster']]\n",
    "\n",
    "plt.scatter(df4['Total Emissions'], df4['Total Production'], c=df4['Cluster'], cmap='viridis')\n",
    "plt.xlabel('Total Emissions')\n",
    "plt.ylabel('Total Production')\n",
    "plt.title('K-means clustering of Trucks based on Emission vs Production')\n",
    "plt.show()"
   ]
  },
  {
   "cell_type": "markdown",
   "id": "005d5969",
   "metadata": {},
   "source": [
    "##### There are precisely 3 cluster -> LE-HP Yellow (promote), HE-HP Purple (discourage), LE-LP Green (utilise more for more data)"
   ]
  },
  {
   "cell_type": "code",
   "execution_count": null,
   "id": "5b36efa6",
   "metadata": {},
   "outputs": [],
   "source": []
  },
  {
   "cell_type": "markdown",
   "id": "b8b06504",
   "metadata": {},
   "source": [
    "## COST BENIFIT ANALYSIS"
   ]
  },
  {
   "cell_type": "markdown",
   "id": "a56c74f1",
   "metadata": {},
   "source": [
    "#### Since costs here are fixed ( at per truck per day), lets do a cost-benefit analysis of the trucks we exluded on the basis of emission"
   ]
  },
  {
   "cell_type": "code",
   "execution_count": 38,
   "id": "6e0b64b9",
   "metadata": {},
   "outputs": [
    {
     "data": {
      "text/plain": [
       "0.02980392156862745"
      ]
     },
     "execution_count": 38,
     "metadata": {},
     "output_type": "execute_result"
    }
   ],
   "source": [
    "avg_pro_exc =  df2[outliers_emissions]['Total Production'].mean()\n",
    "avg_pro_inc = df6['Total Production'].mean()\n",
    "\n",
    "increment_work = (avg_pro_exc - avg_pro_inc)/avg_pro_inc\n",
    "increment_work\n",
    "\n",
    "((1000 * 47) + (1000 * 4 * 1.38) - (1000 * 51)) / (1000 * 51)"
   ]
  },
  {
   "cell_type": "markdown",
   "id": "c2074f56",
   "metadata": {},
   "source": [
    "##### To do the same work Low emission truck would have to work for 38% more time than High emission trucks, adding a fixed cost of 38% (since truck cost is same). Other costs such as wages will also increase since more hours of work will be involved. So basically work of 4 trucks will be completed by 5.5 trucks. So for 51 day 4 truck would have costed 204k SAR, using only Low emission truck will cost you 282k SAR (+78k). For 51 days 50 truck would have costed 2550k, now 2628k. Only a 3% increase to total  cost of truck."
   ]
  },
  {
   "cell_type": "code",
   "execution_count": 39,
   "id": "b2a3f62f",
   "metadata": {},
   "outputs": [
    {
     "data": {
      "text/plain": [
       "0.05946195817058654"
      ]
     },
     "execution_count": 39,
     "metadata": {},
     "output_type": "execute_result"
    }
   ],
   "source": [
    "avg_em_ex =  df2[outliers_emissions]['Total Emissions'].mean()\n",
    "avg_em_dec = df6['Total Emissions'].mean()\n",
    "oct_em = df2['Total Emissions'].sum()\n",
    "\n",
    "nov_em = df2['Total Emissions'].sum() - 4* (df2[outliers_emissions]['Total Emissions'].mean()) + 5.5 * (df6['Total Emissions'].mean())\n",
    "(oct_em - nov_em) / oct_em\n",
    "\n"
   ]
  },
  {
   "cell_type": "markdown",
   "id": "f38fe1cb",
   "metadata": {},
   "source": [
    "### So 3% increase in total cost will result in 6% reduction in total emission"
   ]
  },
  {
   "cell_type": "code",
   "execution_count": null,
   "id": "ff3dc699",
   "metadata": {},
   "outputs": [],
   "source": []
  },
  {
   "cell_type": "markdown",
   "id": "a08943a1",
   "metadata": {},
   "source": [
    "## UTILIZATION"
   ]
  },
  {
   "cell_type": "markdown",
   "id": "c1d442f8",
   "metadata": {},
   "source": [
    "Total Production vs Utilization hr; p vaaue = 0.840; so Utilization hr has no significance in Production\n",
    "#### Lets define Utilization = (Total Production / Total Capacity) * 100"
   ]
  },
  {
   "cell_type": "code",
   "execution_count": 40,
   "id": "e60593bd",
   "metadata": {},
   "outputs": [],
   "source": [
    "df6['Total Capacity'] = 22 * 0.85 * df6['No. of Trips']"
   ]
  },
  {
   "cell_type": "code",
   "execution_count": 41,
   "id": "3ce39c75",
   "metadata": {},
   "outputs": [],
   "source": [
    "df6['Utilization'] = df6['Total Production'] / df6['Total Capacity']"
   ]
  },
  {
   "cell_type": "code",
   "execution_count": 42,
   "id": "a07b38c6",
   "metadata": {},
   "outputs": [
    {
     "data": {
      "text/html": [
       "<div>\n",
       "<style scoped>\n",
       "    .dataframe tbody tr th:only-of-type {\n",
       "        vertical-align: middle;\n",
       "    }\n",
       "\n",
       "    .dataframe tbody tr th {\n",
       "        vertical-align: top;\n",
       "    }\n",
       "\n",
       "    .dataframe thead th {\n",
       "        text-align: right;\n",
       "    }\n",
       "</style>\n",
       "<table border=\"1\" class=\"dataframe\">\n",
       "  <thead>\n",
       "    <tr style=\"text-align: right;\">\n",
       "      <th></th>\n",
       "      <th>Truck Name</th>\n",
       "      <th>Days (ignition)</th>\n",
       "      <th>Total Production</th>\n",
       "      <th>No. of Trips</th>\n",
       "      <th>Total Capacity</th>\n",
       "      <th>Utilization</th>\n",
       "    </tr>\n",
       "  </thead>\n",
       "  <tbody>\n",
       "    <tr>\n",
       "      <th>5</th>\n",
       "      <td>A-6</td>\n",
       "      <td>28</td>\n",
       "      <td>24061.738060</td>\n",
       "      <td>1195</td>\n",
       "      <td>22346.5</td>\n",
       "      <td>1.076756</td>\n",
       "    </tr>\n",
       "    <tr>\n",
       "      <th>22</th>\n",
       "      <td>A-24</td>\n",
       "      <td>30</td>\n",
       "      <td>26742.671200</td>\n",
       "      <td>1361</td>\n",
       "      <td>25450.7</td>\n",
       "      <td>1.050764</td>\n",
       "    </tr>\n",
       "    <tr>\n",
       "      <th>30</th>\n",
       "      <td>A-32</td>\n",
       "      <td>30</td>\n",
       "      <td>18011.559560</td>\n",
       "      <td>858</td>\n",
       "      <td>16044.6</td>\n",
       "      <td>1.122593</td>\n",
       "    </tr>\n",
       "    <tr>\n",
       "      <th>44</th>\n",
       "      <td>A-48</td>\n",
       "      <td>15</td>\n",
       "      <td>413.233574</td>\n",
       "      <td>20</td>\n",
       "      <td>374.0</td>\n",
       "      <td>1.104903</td>\n",
       "    </tr>\n",
       "  </tbody>\n",
       "</table>\n",
       "</div>"
      ],
      "text/plain": [
       "   Truck Name  Days (ignition)  Total Production  No. of Trips  \\\n",
       "5         A-6               28      24061.738060          1195   \n",
       "22       A-24               30      26742.671200          1361   \n",
       "30       A-32               30      18011.559560           858   \n",
       "44       A-48               15        413.233574            20   \n",
       "\n",
       "    Total Capacity  Utilization  \n",
       "5          22346.5     1.076756  \n",
       "22         25450.7     1.050764  \n",
       "30         16044.6     1.122593  \n",
       "44           374.0     1.104903  "
      ]
     },
     "execution_count": 42,
     "metadata": {},
     "output_type": "execute_result"
    }
   ],
   "source": [
    "unsafe_df = df6[(df6['Utilization'] > 1.05)]\n",
    "unsafe_df = unsafe_df[['Truck Name','Days (ignition)','Total Production','No. of Trips','Total Capacity','Utilization']]\n",
    "unsafe_df"
   ]
  },
  {
   "cell_type": "markdown",
   "id": "3afe5e72",
   "metadata": {},
   "source": [
    "##### These 4 vehicle has come to our notice to have overloading consistently above its safe capacity (yellow in graph below)"
   ]
  },
  {
   "cell_type": "code",
   "execution_count": 43,
   "id": "0a226670",
   "metadata": {},
   "outputs": [
    {
     "data": {
      "text/html": [
       "<div>\n",
       "<style scoped>\n",
       "    .dataframe tbody tr th:only-of-type {\n",
       "        vertical-align: middle;\n",
       "    }\n",
       "\n",
       "    .dataframe tbody tr th {\n",
       "        vertical-align: top;\n",
       "    }\n",
       "\n",
       "    .dataframe thead th {\n",
       "        text-align: right;\n",
       "    }\n",
       "</style>\n",
       "<table border=\"1\" class=\"dataframe\">\n",
       "  <thead>\n",
       "    <tr style=\"text-align: right;\">\n",
       "      <th></th>\n",
       "      <th>Truck Name</th>\n",
       "      <th>Days (ignition)</th>\n",
       "      <th>Total Production</th>\n",
       "      <th>No. of Trips</th>\n",
       "      <th>Total Capacity</th>\n",
       "      <th>Utilization</th>\n",
       "    </tr>\n",
       "  </thead>\n",
       "  <tbody>\n",
       "    <tr>\n",
       "      <th>19</th>\n",
       "      <td>A-20</td>\n",
       "      <td>26</td>\n",
       "      <td>1207.373682</td>\n",
       "      <td>84</td>\n",
       "      <td>1570.8</td>\n",
       "      <td>0.768636</td>\n",
       "    </tr>\n",
       "    <tr>\n",
       "      <th>20</th>\n",
       "      <td>A-22</td>\n",
       "      <td>30</td>\n",
       "      <td>12861.948650</td>\n",
       "      <td>987</td>\n",
       "      <td>18456.9</td>\n",
       "      <td>0.696864</td>\n",
       "    </tr>\n",
       "    <tr>\n",
       "      <th>38</th>\n",
       "      <td>A-41</td>\n",
       "      <td>28</td>\n",
       "      <td>814.754538</td>\n",
       "      <td>121</td>\n",
       "      <td>2262.7</td>\n",
       "      <td>0.360081</td>\n",
       "    </tr>\n",
       "  </tbody>\n",
       "</table>\n",
       "</div>"
      ],
      "text/plain": [
       "   Truck Name  Days (ignition)  Total Production  No. of Trips  \\\n",
       "19       A-20               26       1207.373682            84   \n",
       "20       A-22               30      12861.948650           987   \n",
       "38       A-41               28        814.754538           121   \n",
       "\n",
       "    Total Capacity  Utilization  \n",
       "19          1570.8     0.768636  \n",
       "20         18456.9     0.696864  \n",
       "38          2262.7     0.360081  "
      ]
     },
     "execution_count": 43,
     "metadata": {},
     "output_type": "execute_result"
    }
   ],
   "source": [
    "low_ut_df = df6[(df6['Utilization'] < 0.8)]\n",
    "low_ut_df = low_ut_df[['Truck Name','Days (ignition)','Total Production','No. of Trips','Total Capacity','Utilization']]\n",
    "low_ut_df"
   ]
  },
  {
   "cell_type": "markdown",
   "id": "3ac6e963",
   "metadata": {},
   "source": [
    "These 3 truck have untapped potential, filling less than 80% of the safe capacity overall (purple in graph below) and they collectively do the work of ~2 trucks. \n",
    "##### We should be able to save 1/50 (i.e. 2%) of the total cost if their potentials are tapped; also save Loading and Unloading time \n"
   ]
  },
  {
   "cell_type": "code",
   "execution_count": 44,
   "id": "10120268",
   "metadata": {},
   "outputs": [
    {
     "data": {
      "text/plain": [
       "[<matplotlib.lines.Line2D at 0x12898b690>]"
      ]
     },
     "execution_count": 44,
     "metadata": {},
     "output_type": "execute_result"
    },
    {
     "data": {
      "image/png": "[encoded data removed]",
      "text/plain": [
       "<Figure size 640x480 with 2 Axes>"
      ]
     },
     "metadata": {},
     "output_type": "display_data"
    }
   ],
   "source": [
    "plt.scatter(df6['No. of Trips'], df6['Total Production'], s=df6['Days (ignition)'], c= df6['Utilization'], alpha=0.8)\n",
    "plt.xlabel('Number of Trips')\n",
    "plt.ylabel('Total Production')\n",
    "plt.title('Utilization')\n",
    "colorbar = plt.colorbar(label = 'Utilisation')\n",
    "\n",
    "plt.plot(df6['No. of Trips'], 22 * 0.85 * df6['No. of Trips'],alpha = 0.2)"
   ]
  },
  {
   "cell_type": "markdown",
   "id": "e39a0f51",
   "metadata": {},
   "source": [
    "##### Most truck have an optimal utilisation (The blue line is safe capacity line 22 * 0.85 * No. of Trips)"
   ]
  },
  {
   "cell_type": "code",
   "execution_count": null,
   "id": "457af55b",
   "metadata": {},
   "outputs": [],
   "source": []
  },
  {
   "cell_type": "markdown",
   "id": "2bcc8667",
   "metadata": {},
   "source": [
    "## COST EFFICIENCY"
   ]
  },
  {
   "cell_type": "markdown",
   "id": "dacd1615",
   "metadata": {},
   "source": [
    "Since Cost is Days (ignition), we will have to look if the every truck is cost effiecient "
   ]
  },
  {
   "cell_type": "code",
   "execution_count": 45,
   "id": "6d69c4d0",
   "metadata": {},
   "outputs": [],
   "source": [
    "df6['Trips per day'] = df6['No. of Trips'] / df6['Days (ignition)']"
   ]
  },
  {
   "cell_type": "markdown",
   "id": "cd2c17c8",
   "metadata": {},
   "source": [
    "#### We can do a Pareto Analysis here\n",
    "#### Lets see if which trucks fall in the top 80 Percentile of the production"
   ]
  },
  {
   "cell_type": "code",
   "execution_count": 46,
   "id": "437d3911",
   "metadata": {},
   "outputs": [
    {
     "data": {
      "text/plain": [
       "25"
      ]
     },
     "execution_count": 46,
     "metadata": {},
     "output_type": "execute_result"
    }
   ],
   "source": [
    "cost_eff = df6.sort_values(by='Trips per day', ascending=False)\n",
    "top_80_percent_trucks = cost_eff[cost_eff['Trips per day'].cumsum() <= 0.8 * cost_eff['Trips per day'].sum()]\n",
    "len(top_80_percent_trucks)"
   ]
  }
 ],
 "metadata": {
  "kernelspec": {
   "display_name": "Python 3 (ipykernel)",
   "language": "python",
   "name": "python3"
  },
  "language_info": {
   "codemirror_mode": {
    "name": "ipython",
    "version": 3
   },
   "file_extension": ".py",
   "mimetype": "text/x-python",
   "name": "python",
   "nbconvert_exporter": "python",
   "pygments_lexer": "ipython3",
   "version": "3.11.5"
  }
 },
 "nbformat": 4,
 "nbformat_minor": 5
}
